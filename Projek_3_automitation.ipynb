{
  "cells": [
    {
      "cell_type": "code",
      "source": [
        "from google.colab import drive\n",
        "drive.mount('/content/drive')"
      ],
      "metadata": {
        "colab": {
          "base_uri": "https://localhost:8080/"
        },
        "id": "of3Gq9hHvsnm",
        "outputId": "f471d75a-f0ca-43e4-f8a9-d774d4e675fe"
      },
      "execution_count": null,
      "outputs": [
        {
          "output_type": "stream",
          "name": "stdout",
          "text": [
            "Mounted at /content/drive\n"
          ]
        }
      ]
    },
    {
      "cell_type": "code",
      "execution_count": null,
      "metadata": {
        "id": "58FaU9vsOkCi"
      },
      "outputs": [],
      "source": [
        "import pandas as pd\n",
        "\n",
        "# load data\n",
        "df = pd.read_excel('/content/drive/MyDrive/Colab Notebooks/College/Research Haikal/dataset1.xlsx', index_col=0)"
      ]
    },
    {
      "cell_type": "code",
      "execution_count": null,
      "metadata": {
        "id": "7ldPs_2XOkCl"
      },
      "outputs": [],
      "source": [
        "# create a dictionary to translate column names\n",
        "translation_dict = {'Wavelenth': 'Wavelength', \n",
        "                    'indeks bias': 'Refractive index',\n",
        "                    'diameter hole': 'Hole diameter', \n",
        "                    'ketebalan emas': 'Gold thickness',\n",
        "                    'ketebalan TiO2': 'TiO2 thickness', \n",
        "                    'confinement Loss': 'Confinement loss'}\n",
        "\n",
        "# rename the columns using the translation dictionary\n",
        "df = df.rename(columns=translation_dict)"
      ]
    },
    {
      "cell_type": "code",
      "source": [
        "df['TiO2 thickness']"
      ],
      "metadata": {
        "colab": {
          "base_uri": "https://localhost:8080/"
        },
        "id": "lS7QMl2ow4hJ",
        "outputId": "a99e1b13-d2e6-473e-b959-5142ea3aa033"
      },
      "execution_count": null,
      "outputs": [
        {
          "output_type": "execute_result",
          "data": {
            "text/plain": [
              "0      45\n",
              "1      45\n",
              "2      45\n",
              "3      45\n",
              "4      45\n",
              "       ..\n",
              "739    35\n",
              "740    35\n",
              "741    35\n",
              "742    35\n",
              "743    35\n",
              "Name: TiO2 thickness, Length: 744, dtype: int64"
            ]
          },
          "metadata": {},
          "execution_count": 22
        }
      ]
    },
    {
      "cell_type": "code",
      "source": [
        "import pandas as pd\n",
        "import numpy as np\n",
        "from keras.models import Sequential\n",
        "from sklearn.preprocessing import StandardScaler\n",
        "from keras.layers import Dense\n",
        "from sklearn.metrics import mean_squared_error\n",
        "\n",
        "# Load the data\n",
        "data = df\n",
        "\n",
        "# Preprocess the data\n",
        "X = data.iloc[:, :-1].values #data input\n",
        "y = data.iloc[:, -1].values #data output\n",
        "\n",
        "# Split the data into training and testing sets\n",
        "from sklearn.model_selection import train_test_split\n",
        "X_train, X_test, y_train, y_test = train_test_split(X, y, test_size=0.2, random_state=0)\n",
        "\n",
        "X_train"
      ],
      "metadata": {
        "colab": {
          "base_uri": "https://localhost:8080/"
        },
        "id": "XMeCv6clw5zJ",
        "outputId": "e1def489-7868-4592-ceb5-9fd6d43e0245"
      },
      "execution_count": null,
      "outputs": [
        {
          "output_type": "execute_result",
          "data": {
            "text/plain": [
              "array([[ 0.62,  1.36,  1.5 , 35.  , 35.  ],\n",
              "       [ 0.59,  1.35,  1.5 , 50.  , 45.  ],\n",
              "       [ 0.73,  1.36,  1.5 , 35.  , 35.  ],\n",
              "       ...,\n",
              "       [ 0.64,  1.36,  1.51, 45.  , 35.  ],\n",
              "       [ 0.56,  1.36,  1.5 , 45.  , 35.  ],\n",
              "       [ 0.57,  1.36,  1.48, 45.  , 35.  ]])"
            ]
          },
          "metadata": {},
          "execution_count": 10
        }
      ]
    },
    {
      "cell_type": "code",
      "source": [
        "X_train[:,3]"
      ],
      "metadata": {
        "id": "CT-3HTg615fg"
      },
      "execution_count": null,
      "outputs": []
    },
    {
      "cell_type": "code",
      "source": [
        "# standardize the features\n",
        "scaler = StandardScaler()\n",
        "X_train_scaled = scaler.fit_transform(X_train)\n",
        "X_test_scaled = scaler.transform(X_test)\n",
        "\n",
        "print(f'scaled: {X_train_scaled}')\n",
        "print(f'X_train:{X_train}')\n",
        "\n",
        "for i, j in zip(X_train_scaled,X_train):\n",
        "  for k,l in zip(i,j):\n",
        "    print(k,l)"
      ],
      "metadata": {
        "id": "wGYfZ5cWxA0J"
      },
      "execution_count": null,
      "outputs": []
    },
    {
      "cell_type": "code",
      "source": [
        "X_train_scaled[:][3]"
      ],
      "metadata": {
        "colab": {
          "base_uri": "https://localhost:8080/"
        },
        "id": "nATZqqVH1YPa",
        "outputId": "217d71ca-717c-49eb-d853-c0ee4e7c5764"
      },
      "execution_count": null,
      "outputs": [
        {
          "output_type": "execute_result",
          "data": {
            "text/plain": [
              "array([-0.22486172,  0.10378951, -1.58402709, -0.22894514, -0.97977962])"
            ]
          },
          "metadata": {},
          "execution_count": 20
        }
      ]
    },
    {
      "cell_type": "code",
      "source": [
        "import seaborn as sns\n",
        "import matplotlib.pyplot as plt\n",
        "\n",
        "\n",
        "plt.hist(X_train_scaled[:,3],X_train[:,3])"
      ],
      "metadata": {
        "colab": {
          "base_uri": "https://localhost:8080/",
          "height": 447
        },
        "id": "woc4goH00Knz",
        "outputId": "b5c0aa93-cf71-433e-9f44-33e10c601c81"
      },
      "execution_count": null,
      "outputs": [
        {
          "output_type": "execute_result",
          "data": {
            "text/plain": [
              "<matplotlib.collections.PathCollection at 0x7f2bc3220dc0>"
            ]
          },
          "metadata": {},
          "execution_count": 26
        },
        {
          "output_type": "display_data",
          "data": {
            "text/plain": [
              "<Figure size 640x480 with 1 Axes>"
            ],
            "image/png": "[encoded data removed]"
          },
          "metadata": {}
        }
      ]
    },
    {
      "cell_type": "markdown",
      "source": [
        "Standardize features by removing the mean and scaling to unit variance.\n",
        "\n",
        "The standard score of a sample x is calculated as:\n",
        "\n",
        "z = (x - u) / s\n",
        "\n",
        "where u is the mean of the training samples or zero if with_mean=False, and s is the standard deviation of the training samples or one if with_std=False.\n",
        "\n",
        "Centering and scaling happen independently on each feature by computing the relevant statistics on the samples in the training set. Mean and standard deviation are then stored to be used on later data using transform.\n",
        "\n",
        "Standardization of a dataset is a common requirement for many machine learning estimators: they might behave badly if the individual features do not more or less look like standard normally distributed data (e.g. Gaussian with 0 mean and unit variance).\n",
        "\n",
        "For instance many elements used in the objective function of a learning algorithm (such as the RBF kernel of Support Vector Machines or the L1 and L2 regularizers of linear models) assume that all features are centered around 0 and have variance in the same order. If a feature has a variance that is orders of magnitude larger than others, it might dominate the objective function and make the estimator unable to learn from other features correctly as expected."
      ],
      "metadata": {
        "id": "T7Ew_h6A2pJn"
      }
    },
    {
      "cell_type": "code",
      "source": [
        "plt.hist(X_train[:,3])\n",
        "plt.hist(X_train_scaled[:,3])"
      ],
      "metadata": {
        "colab": {
          "base_uri": "https://localhost:8080/",
          "height": 517
        },
        "id": "cz3JPJvV2cVI",
        "outputId": "169a6635-be20-401c-eb69-4d197d7188f9"
      },
      "execution_count": null,
      "outputs": [
        {
          "output_type": "execute_result",
          "data": {
            "text/plain": [
              "(array([ 25.,   0.,  21.,   0.,   0.,  27.,   0., 243.,   0., 279.]),\n",
              " array([-3.25610862, -2.85248682, -2.44886502, -2.04524322, -1.64162143,\n",
              "        -1.23799963, -0.83437783, -0.43075604, -0.02713424,  0.37648756,\n",
              "         0.78010936]),\n",
              " <BarContainer object of 10 artists>)"
            ]
          },
          "metadata": {},
          "execution_count": 28
        },
        {
          "output_type": "display_data",
          "data": {
            "text/plain": [
              "<Figure size 640x480 with 1 Axes>"
            ],
            "image/png": "[encoded data removed]"
          },
          "metadata": {}
        }
      ]
    },
    {
      "cell_type": "code",
      "execution_count": null,
      "metadata": {
        "id": "5U8Xk6olOkCm"
      },
      "outputs": [],
      "source": [
        "#kombinasi epoch dan nodes 10 50 100 150 200 250 \n",
        "\n",
        "import pandas as pd\n",
        "import numpy as np\n",
        "from keras.models import Sequential\n",
        "from sklearn.preprocessing import StandardScaler\n",
        "from keras.layers import Dense\n",
        "from sklearn.metrics import mean_squared_error\n",
        "\n",
        "# Load the data\n",
        "data = df\n",
        "\n",
        "# Preprocess the data\n",
        "X = data.iloc[:, :-1].values #data input\n",
        "y = data.iloc[:, -1].values #data output\n",
        "\n",
        "# Split the data into training and testing sets\n",
        "from sklearn.model_selection import train_test_split\n",
        "X_train, X_test, y_train, y_test = train_test_split(X, y, test_size=0.2, random_state=0)\n",
        "\n",
        "# standardize the features\n",
        "scaler = StandardScaler()\n",
        "X_train_scaled = scaler.fit_transform(X_train)\n",
        "X_test_scaled = scaler.transform(X_test)\n",
        "\n",
        "#define number of nodes \n",
        "num_nodes_list = [10, 50, 100, 150, 200, 250]\n",
        "\n",
        "best_input_node = 0\n",
        "best_mse = float('inf')\n",
        "\n",
        "for num_nodes in num_nodes_list :\n",
        "    \n",
        "    # Create the deep learning model\n",
        "    model = Sequential()\n",
        "    model.add(Dense(units= num_nodes, input_dim=5, activation='relu')) #input layer, how \n",
        "    model.add(Dense(units= 10, activation='relu'))   #hidden layer 1\n",
        "    model.add(Dense(units=1, activation='relu'))   #output layer\n",
        "\n",
        "    # Compile the model\n",
        "    model.compile(optimizer='adam', loss='mean_squared_error')\n",
        "\n",
        "    # Train the model\n",
        "    history = model.fit(X_train_scaled, y_train, batch_size=10, epochs=10, verbose = 0)\n",
        "\n",
        "    # Evaluate the model\n",
        "    score = model.evaluate(X_test_scaled, y_test)\n",
        "    print('Test loss for {} nodes: {}'.format(num_nodes, score))\n",
        "\n",
        "    # Make predictions\n",
        "    y_pred = model.predict(X_test_scaled)\n",
        "\n",
        "    # calculate the mean squared error\n",
        "    mse = mean_squared_error(y_test, y_pred)\n",
        "    print(\"Mean Squared Error for {} nodes: {:.4f}\".format(num_nodes, mse))\n",
        "    \n",
        "    if mse < best_mse :\n",
        "        best_mse = mse\n",
        "        best_input_node = num_nodes\n",
        "\n",
        "    # mengekstrak eppoct dan mse dari history\n",
        "    epoch = np.arange(1, len(history.history['loss']) + 1) \n",
        "    mse = history.history['loss'] #Create a pandas dataframe to store the epoch and MSE \n",
        "\n",
        "    df_history = pd.DataFrame({'Epoch': epoch, 'MSE': mse})\n",
        "\n",
        "    #saving\n",
        "    filename = 'training_history_{}nodes.csv'.format(num_nodes)\n",
        "    df_history.to_csv(filename, index = False)\n",
        "    \n",
        "print(f'Best best_input_node : {best_input_node}, mse : {best_mse}')"
      ]
    },
    {
      "cell_type": "code",
      "execution_count": null,
      "metadata": {
        "id": "qUlfQ269OkCq",
        "outputId": "dcc87be6-928b-4045-fc22-8bf4023008b5",
        "colab": {
          "base_uri": "https://localhost:8080/"
        }
      },
      "outputs": [
        {
          "output_type": "stream",
          "name": "stdout",
          "text": [
            "5/5 [==============================] - 0s 5ms/step - loss: 0.0215\n",
            "Test loss for 10 nodes: 0.02151898480951786\n",
            "5/5 [==============================] - 0s 4ms/step\n",
            "Mean Squared Error for 10 nodes: 0.0215\n",
            "5/5 [==============================] - 0s 3ms/step - loss: 0.0202\n",
            "Test loss for 50 nodes: 0.02015514299273491\n",
            "5/5 [==============================] - 0s 3ms/step\n",
            "Mean Squared Error for 50 nodes: 0.0202\n",
            "5/5 [==============================] - 0s 3ms/step - loss: 0.0162\n",
            "Test loss for 100 nodes: 0.01618487574160099\n",
            "5/5 [==============================] - 0s 2ms/step\n",
            "Mean Squared Error for 100 nodes: 0.0162\n",
            "5/5 [==============================] - 0s 3ms/step - loss: 0.0228\n",
            "Test loss for 150 nodes: 0.022825954481959343\n",
            "5/5 [==============================] - 0s 3ms/step\n",
            "Mean Squared Error for 150 nodes: 0.0228\n",
            "5/5 [==============================] - 0s 3ms/step - loss: 0.0281\n",
            "Test loss for 200 nodes: 0.02812470681965351\n",
            "5/5 [==============================] - 0s 3ms/step\n",
            "Mean Squared Error for 200 nodes: 0.0281\n",
            "5/5 [==============================] - 0s 4ms/step - loss: 0.0327\n",
            "Test loss for 250 nodes: 0.03268682584166527\n",
            "5/5 [==============================] - 0s 3ms/step\n",
            "Mean Squared Error for 250 nodes: 0.0327\n",
            "Best best_node: 100, mse : 0.016184876340931426\n"
          ]
        }
      ],
      "source": [
        "#kombinasi epoch dan nodes 10 50 100 150 200 250 \n",
        "\n",
        "import pandas as pd\n",
        "import numpy as np\n",
        "from keras.models import Sequential\n",
        "from sklearn.preprocessing import StandardScaler\n",
        "from keras.layers import Dense\n",
        "from sklearn.metrics import mean_squared_error\n",
        "\n",
        "# Load the data\n",
        "data = df\n",
        "\n",
        "# Preprocess the data\n",
        "X = data.iloc[:, :-1].values #data input\n",
        "y = data.iloc[:, -1].values #data output\n",
        "\n",
        "# Split the data into training and testing sets\n",
        "from sklearn.model_selection import train_test_split\n",
        "X_train, X_test, y_train, y_test = train_test_split(X, y, test_size=0.2, random_state=0)\n",
        "\n",
        "# standardize the features\n",
        "scaler = StandardScaler()\n",
        "X_train_scaled = scaler.fit_transform(X_train)\n",
        "X_test_scaled = scaler.transform(X_test)\n",
        "\n",
        "#define number of nodes \n",
        "num_nodes_list = [10, 50, 100, 150, 200, 250]\n",
        "\n",
        "best_node = 0\n",
        "best_mse = float('inf')\n",
        "\n",
        "for num_nodes in num_nodes_list :\n",
        "    \n",
        "    # Create the deep learning model\n",
        "    model = Sequential()\n",
        "    model.add(Dense(units= best_input_node, input_dim=5, activation='relu')) #input layer\n",
        "    model.add(Dense(units=num_nodes, activation='relu'))   #hidden layer 1\n",
        "    model.add(Dense(units=1, activation='relu'))   #output layer\n",
        "\n",
        "    # Compile the model\n",
        "    model.compile(optimizer='adam', loss='mean_squared_error')\n",
        "\n",
        "    # Train the model\n",
        "    history = model.fit(X_train_scaled, y_train, batch_size=10, epochs=10, verbose = 0)\n",
        "\n",
        "    # Evaluate the model\n",
        "    score = model.evaluate(X_test_scaled, y_test)\n",
        "    print('Test loss for {} nodes: {}'.format(num_nodes, score))\n",
        "\n",
        "    # Make predictions\n",
        "    y_pred = model.predict(X_test_scaled)\n",
        "\n",
        "    # calculate the mean squared error\n",
        "    mse = mean_squared_error(y_test, y_pred)\n",
        "    print(\"Mean Squared Error for {} nodes: {:.4f}\".format(num_nodes, mse))\n",
        "    \n",
        "    if mse < best_mse :\n",
        "        best_mse = mse\n",
        "        best_node = num_nodes\n",
        "\n",
        "    # mengekstrak eppoct dan mse dari history\n",
        "    epoch = np.arange(1, len(history.history['loss']) + 1) \n",
        "    mse = history.history['loss'] #Create a pandas dataframe to store the epoch and MSE \n",
        "\n",
        "    df_history = pd.DataFrame({'Epoch': epoch, 'MSE': mse})\n",
        "\n",
        "    #saving\n",
        "    filename = 'training_history_{}nodes.csv'.format(num_nodes)\n",
        "    df_history.to_csv(filename, index = False)\n",
        "    \n",
        "print(f'Best best_node: {best_node}, mse : {best_mse}')"
      ]
    },
    {
      "cell_type": "code",
      "execution_count": null,
      "metadata": {
        "id": "DK2glaNrOkCs",
        "outputId": "c07e0b61-2b04-4e05-9c5b-86f697090514",
        "colab": {
          "base_uri": "https://localhost:8080/"
        }
      },
      "outputs": [
        {
          "output_type": "stream",
          "name": "stdout",
          "text": [
            "5/5 [==============================] - 0s 3ms/step - loss: 0.0189\n",
            "Test loss for 1 layers: 0.01885550282895565\n",
            "5/5 [==============================] - 0s 3ms/step\n",
            "Mean Squared Error for 1 layers: 0.0189\n",
            "5/5 [==============================] - 0s 3ms/step - loss: 0.0330\n",
            "Test loss for 2 layers: 0.03299711272120476\n",
            "5/5 [==============================] - 0s 2ms/step\n",
            "Mean Squared Error for 2 layers: 0.0330\n",
            "5/5 [==============================] - 0s 3ms/step - loss: 0.0212\n",
            "Test loss for 3 layers: 0.021240640431642532\n",
            "5/5 [==============================] - 0s 3ms/step\n",
            "Mean Squared Error for 3 layers: 0.0212\n",
            "5/5 [==============================] - 0s 5ms/step - loss: 0.0215\n",
            "Test loss for 4 layers: 0.021495042368769646\n",
            "5/5 [==============================] - 0s 3ms/step\n",
            "Mean Squared Error for 4 layers: 0.0215\n",
            "5/5 [==============================] - 0s 3ms/step - loss: 0.0120\n",
            "Test loss for 5 layers: 0.011994820088148117\n",
            "5/5 [==============================] - 0s 3ms/step\n",
            "Mean Squared Error for 5 layers: 0.0120\n",
            "Best hidden_layer: 5, mse : 0.011994819573854844\n"
          ]
        }
      ],
      "source": [
        "#number of hidden layer dari 1 hingga 5 ( 1, 2, 3, 4, 5)\n",
        "import pandas as pd\n",
        "import numpy as np\n",
        "from keras.models import Sequential\n",
        "from sklearn.preprocessing import StandardScaler\n",
        "from keras.layers import Dense\n",
        "from sklearn.metrics import mean_squared_error\n",
        "\n",
        "# Load the data\n",
        "data = df\n",
        "\n",
        "# Preprocess the data\n",
        "X = data.iloc[:, :-1].values #data input\n",
        "y = data.iloc[:, -1].values #data output\n",
        "\n",
        "# Split the data into training and testing sets\n",
        "from sklearn.model_selection import train_test_split\n",
        "X_train, X_test, y_train, y_test = train_test_split(X, y, test_size=0.2, random_state=0)\n",
        "\n",
        "# standardize the features\n",
        "scaler = StandardScaler()\n",
        "X_train_scaled = scaler.fit_transform(X_train)\n",
        "X_test_scaled = scaler.transform(X_test)\n",
        "\n",
        "#define number of nodes \n",
        "num_layers_list = [1, 2, 3, 4, 5]\n",
        "\n",
        "best_mse = float('inf')\n",
        "best_hidden_layer = 0\n",
        "\n",
        "for num_layers in num_layers_list :\n",
        "    \n",
        "    # Create the deep learning model\n",
        "    model = Sequential()\n",
        "    model.add(Dense(units= best_input_node , input_dim=5, activation='relu')) #input layer\n",
        "    for i in range (num_layers):\n",
        "        model.add(Dense(units=best_node, activation='relu'))   #hidden layer 1\n",
        "    model.add(Dense(units=1, activation='relu'))   #output layer\n",
        "\n",
        "    # Compile the model\n",
        "    model.compile(optimizer='adam', loss='mean_squared_error')\n",
        "\n",
        "    # Train the model\n",
        "    history = model.fit(X_train_scaled, y_train, batch_size=10, epochs=10, verbose = 0)\n",
        "\n",
        "    # Evaluate the model\n",
        "    score = model.evaluate(X_test_scaled, y_test)\n",
        "    print('Test loss for {} layers: {}'.format(num_layers, score))\n",
        "\n",
        "    # Make predictions\n",
        "    y_pred = model.predict(X_test_scaled)\n",
        "\n",
        "    # calculate the mean squared error\n",
        "    mse = mean_squared_error(y_test, y_pred)\n",
        "    print(\"Mean Squared Error for {} layers: {:.4f}\".format(num_layers, mse))\n",
        "    \n",
        "    # Check if the current epoch gives a lower loss\n",
        "    if mse < best_mse:\n",
        "        best_mse = mse\n",
        "        best_hidden_layer = num_layers\n",
        "\n",
        "    # mengekstrak eppoct dan mse dari history\n",
        "    epoch = np.arange(1, len(history.history['loss']) + 1) \n",
        "    mse = history.history['loss'] #Create a pandas dataframe to store the epoch and MSE \n",
        "\n",
        "    # print(f\"this is me just checking mse: {mse}\")\n",
        "    df_history = pd.DataFrame({'Epoch': epoch, 'MSE': mse})\n",
        "    \n",
        "    #saving\n",
        "    filename = 'training_history_{}layers.csv'.format(num_layers)\n",
        "\n",
        "    df_history.to_csv(filename, index = False)\n",
        "    \n",
        "print(f'Best hidden_layer: {best_hidden_layer}, mse : {best_mse}')"
      ]
    },
    {
      "cell_type": "code",
      "execution_count": null,
      "metadata": {
        "id": "bfPOjYhLOkCu",
        "outputId": "943ca803-9ac3-478d-ffbe-d65f8ba256a5"
      },
      "outputs": [
        {
          "name": "stdout",
          "output_type": "stream",
          "text": [
            "Training for 1000 epochs\n",
            "Test loss: 0.002525267656892538\n",
            "5/5 [==============================] - 0s 3ms/step\n",
            "Mean Squared Error for 1000 epoch: 0.0025\n",
            "Training for 2000 epochs\n",
            "Test loss: 0.0024182714987546206\n",
            "5/5 [==============================] - 0s 3ms/step\n",
            "Mean Squared Error for 2000 epoch: 0.0024\n",
            "Training for 3000 epochs\n",
            "Test loss: 0.0023997873067855835\n",
            "5/5 [==============================] - 0s 4ms/step\n",
            "Mean Squared Error for 3000 epoch: 0.0024\n",
            "Training for 4000 epochs\n",
            "Test loss: 0.002290532924234867\n",
            "5/5 [==============================] - 0s 3ms/step\n",
            "Mean Squared Error for 4000 epoch: 0.0023\n",
            "Training for 5000 epochs\n",
            "Test loss: 0.0022382375318557024\n",
            "5/5 [==============================] - 0s 2ms/step\n",
            "Mean Squared Error for 5000 epoch: 0.0022\n",
            "Best epoch: 5000, mse: 0.002238238292304945\n"
          ]
        }
      ],
      "source": [
        "#memainkan jumlah epoch 1000 2000 3000 4000 5000\n",
        "import pandas as pd\n",
        "import numpy as np\n",
        "from keras.models import Sequential\n",
        "from sklearn.preprocessing import StandardScaler\n",
        "from keras.layers import Dense\n",
        "from sklearn.metrics import mean_squared_error\n",
        "\n",
        "# Load the data\n",
        "data = df\n",
        "\n",
        "# Preprocess the data\n",
        "X = data.iloc[:, :-1].values\n",
        "y = data.iloc[:, -1].values\n",
        "\n",
        "# Split the data into training and testing sets\n",
        "from sklearn.model_selection import train_test_split\n",
        "X_train, X_test, y_train, y_test = train_test_split(X, y, test_size=0.2, random_state=0)\n",
        "\n",
        "# standardize the features\n",
        "scaler = StandardScaler()\n",
        "X_train_scaled = scaler.fit_transform(X_train)\n",
        "X_test_scaled = scaler.transform(X_test)\n",
        "\n",
        "# Create the deep learning model\n",
        "#model = Sequential()\n",
        "#model.add(Dense(units=6, input_dim=5, activation='relu'))\n",
        "#model.add(Dense(units=6, activation='relu'))\n",
        "#model.add(Dense(units=1, activation='linear'))\n",
        "\n",
        "# Create the deep learning model\n",
        "model = Sequential()\n",
        "model.add(Dense(units= best_input_node , input_dim=5, activation='relu')) #input layer\n",
        "for i in range (best_hidden_layer):\n",
        "    model.add(Dense(units=best_node, activation='relu'))   #hidden layer 1\n",
        "model.add(Dense(units=1, activation='relu'))   #output layer\n",
        "\n",
        "# Compile the model\n",
        "model.compile(optimizer='adam', loss='mean_squared_error')\n",
        "\n",
        "# Define epochs to train\n",
        "epochs = [1000, 2000, 3000, 4000, 5000]\n",
        "\n",
        "# Train the model for each epoch and evaluate\n",
        "best_mse = float('inf')\n",
        "best_epoch = 0\n",
        "for epoch in epochs:\n",
        "    print(f'Training for {epoch} epochs')\n",
        "    history = model.fit(X_train_scaled, y_train, batch_size = 10, epochs=epoch, verbose = 0)\n",
        "    score = model.evaluate(X_test_scaled, y_test, verbose=0)\n",
        "    print('Test loss:', score)\n",
        "    \n",
        "    # Make predictions\n",
        "    y_pred = model.predict(X_test_scaled)\n",
        "    \n",
        "    # calculate the mean squared error\n",
        "    mse = mean_squared_error(y_test, y_pred)\n",
        "    print(\"Mean Squared Error for {} epoch: {:.4f}\".format(epoch, mse))\n",
        "    \n",
        "    # Check if the current epoch gives a lower loss\n",
        "    if mse < best_mse:\n",
        "        best_mse = mse\n",
        "        best_epoch = epoch\n",
        "\n",
        "    # mengekstrak eppoct dan mse dari history\n",
        "    epoch_i = np.arange(1, len(history.history['loss']) + 1) \n",
        "    mse = history.history['loss'] #Create a pandas dataframe to store the epoch and MSE \n",
        "    \n",
        "    df_history = pd.DataFrame({'Epoch': epoch_i, 'MSE': mse})\n",
        "    \n",
        "    #saving\n",
        "    filename = 'training_history_{}epoch.csv'.format(epoch)\n",
        "    df_history.to_csv(filename, index = False)\n",
        "    \n",
        "print(f'Best epoch: {best_epoch}, mse: {best_mse}')"
      ]
    },
    {
      "cell_type": "code",
      "execution_count": null,
      "metadata": {
        "id": "K0U6a1toOkCv"
      },
      "outputs": [],
      "source": []
    }
  ],
  "metadata": {
    "kernelspec": {
      "display_name": "Python 3 (ipykernel)",
      "language": "python",
      "name": "python3"
    },
    "language_info": {
      "codemirror_mode": {
        "name": "ipython",
        "version": 3
      },
      "file_extension": ".py",
      "mimetype": "text/x-python",
      "name": "python",
      "nbconvert_exporter": "python",
      "pygments_lexer": "ipython3",
      "version": "3.8.16"
    },
    "colab": {
      "provenance": []
    }
  },
  "nbformat": 4,
  "nbformat_minor": 0
}